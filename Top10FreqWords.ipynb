{
 "cells": [
  {
   "cell_type": "code",
   "execution_count": 163,
   "id": "353ca0b9",
   "metadata": {},
   "outputs": [
    {
     "data": {
      "text/plain": [
       "'Write a program to process words in a text file\\n1.Read in some data.\\n2.Count the frequency of each word and identify the top 10 most frequent words.\\n3.Plot the top words.\\n4.Save the results into a new file.\\n'"
      ]
     },
     "execution_count": 163,
     "metadata": {},
     "output_type": "execute_result"
    }
   ],
   "source": [
    "'''Write a program to process words in a text file\n",
    "1.Read in some data.\n",
    "2.Count the frequency of each word and identify the top 10 most frequent words.\n",
    "3.Plot the top words.\n",
    "4.Save the results into a new file.\n",
    "'''"
   ]
  },
  {
   "cell_type": "code",
   "execution_count": 164,
   "id": "53af6771",
   "metadata": {},
   "outputs": [],
   "source": [
    "import matplotlib.pyplot as plt\n",
    "import pandas as pd\n",
    "f = open(r\"C:\\Users\\andre\\OneDrive\\Documents\\microdose_top_articles.txt\", 'r', encoding='utf-8')\n",
    "articles = f.read()"
   ]
  },
  {
   "cell_type": "code",
   "execution_count": 165,
   "id": "b1493997",
   "metadata": {},
   "outputs": [],
   "source": [
    "def getWords(articles):\n",
    "    \"\"\"\n",
    "    It takes \"articles\" as an argument, which must be a text file.\n",
    "    \n",
    "    This function will create a Dictionary out of all the words that are\n",
    "    in the text file and it will count their frequency.\n",
    "    \n",
    "    Also this handles the case sensitivity problem by making all of the\n",
    "    words in lowercase and then counting them.\n",
    "    \"\"\"\n",
    "    D = {}\n",
    "    words = articles.split()\n",
    "    for word in words:\n",
    "        word = word.lower()\n",
    "        if word in D:\n",
    "            D[word] += 1\n",
    "        else:\n",
    "            D[word] = 1\n",
    "    return D"
   ]
  },
  {
   "cell_type": "code",
   "execution_count": 166,
   "id": "7f35ac60",
   "metadata": {},
   "outputs": [],
   "source": [
    "w_count = getWords(articles)"
   ]
  },
  {
   "cell_type": "code",
   "execution_count": 167,
   "id": "4ba27ca7",
   "metadata": {},
   "outputs": [],
   "source": [
    "def getTopTen(w_count):\n",
    "    \"\"\"\n",
    "    It takes \"w_count\" as an argument, which must be a Dictionary.\n",
    "    \n",
    "    This function will create a dictionary that will take the highest 10\n",
    "    frequent words and display them in a descending order.\n",
    "    It iterates through the \"getWords()\" dictionary and it checks for the maximum value by updating\n",
    "    the \"maxi\" parameter.\n",
    "    \n",
    "    The return value of this function will be also a Dictionary\n",
    "    that will contain the expected result.\n",
    "    \"\"\"\n",
    "    \n",
    "    topNumber = int(input(\"Enter a number to declare how big your top is going to be: \"))\n",
    "    D = {}\n",
    "    for _ in range(topNumber):\n",
    "        maxi = 0\n",
    "        key = \" \"\n",
    "        for x in w_count:\n",
    "            if w_count[x] > maxi and x not in D:\n",
    "                maxi = w_count[x]\n",
    "                key = x\n",
    "        D[key] = maxi\n",
    "            \n",
    "    return D"
   ]
  },
  {
   "cell_type": "code",
   "execution_count": 181,
   "id": "607dc41b",
   "metadata": {},
   "outputs": [],
   "source": [
    "getTopTen??"
   ]
  },
  {
   "cell_type": "code",
   "execution_count": 168,
   "id": "6b2c4abd",
   "metadata": {},
   "outputs": [
    {
     "name": "stdout",
     "output_type": "stream",
     "text": [
      "Enter a number to declare how big your top is going to be: 10\n"
     ]
    },
    {
     "data": {
      "text/plain": [
       "the     332\n",
       "and     196\n",
       "of      181\n",
       "a       166\n",
       "to      156\n",
       "in      111\n",
       "that     82\n",
       "for      64\n",
       "we       51\n",
       "with     49\n",
       "dtype: int64"
      ]
     },
     "execution_count": 168,
     "metadata": {},
     "output_type": "execute_result"
    }
   ],
   "source": [
    "myTop = getTopTen(w_count)\n",
    "displayMytop = pd.Series(myTop)\n",
    "displayMytop"
   ]
  },
  {
   "cell_type": "code",
   "execution_count": 169,
   "id": "7f63ab4f",
   "metadata": {},
   "outputs": [],
   "source": [
    "def charCounter():\n",
    "    \"\"\"\n",
    "    This function will count how many words are in total in the text file.\n",
    "    \"\"\"\n",
    "    count = 0\n",
    "    prep_articles = articles.split()\n",
    "    for i in prep_articles:\n",
    "        if(len(i) > 0):\n",
    "            count += 1\n",
    "    return count"
   ]
  },
  {
   "cell_type": "code",
   "execution_count": 170,
   "id": "0609b80c",
   "metadata": {},
   "outputs": [
    {
     "name": "stdout",
     "output_type": "stream",
     "text": [
      "The number of words in the text file is: 6427\n"
     ]
    }
   ],
   "source": [
    "charactersNumber = charCounter()\n",
    "print(\"The number of words in the text file is:\", charactersNumber)"
   ]
  },
  {
   "cell_type": "code",
   "execution_count": 177,
   "id": "b671955c",
   "metadata": {},
   "outputs": [],
   "source": [
    "def plotTop(myTop):\n",
    "    \"\"\"\n",
    "    This function will plot:\n",
    "    - on the x axis the words\n",
    "    starting from 0 with the most common word and going on in a descending way to inf.\n",
    "    - on y axis the values that represent how many times a word has been\n",
    "    occuring in the file.\n",
    "    \"\"\"\n",
    "    plt.bar(range(len(myTop)), list(myTop.values()), align='center')\n",
    "    plt.xticks(range(len(myTop)), list(myTop.keys()))\n",
    "    plt.savefig('word_frequency_plot.png')"
   ]
  },
  {
   "cell_type": "code",
   "execution_count": 178,
   "id": "095d7410",
   "metadata": {},
   "outputs": [
    {
     "data": {
      "image/png": "[encoded data removed]",
      "text/plain": [
       "<Figure size 640x480 with 1 Axes>"
      ]
     },
     "metadata": {},
     "output_type": "display_data"
    }
   ],
   "source": [
    "plotTop(myTop)"
   ]
  },
  {
   "cell_type": "code",
   "execution_count": 175,
   "id": "0a988f61",
   "metadata": {},
   "outputs": [],
   "source": [
    "with open('output.txt', 'w') as file:\n",
    "    file.write(f\"Top most frequent words list:\\n\")\n",
    "    file.write(str(pd.Series(myTop)) + '\\n')\n",
    "    file.write(f\"The number of words in the text file is: {charactersNumber}\\n\")"
   ]
  }
 ],
 "metadata": {
  "kernelspec": {
   "display_name": "Python 3 (ipykernel)",
   "language": "python",
   "name": "python3"
  },
  "language_info": {
   "codemirror_mode": {
    "name": "ipython",
    "version": 3
   },
   "file_extension": ".py",
   "mimetype": "text/x-python",
   "name": "python",
   "nbconvert_exporter": "python",
   "pygments_lexer": "ipython3",
   "version": "3.11.5"
  }
 },
 "nbformat": 4,
 "nbformat_minor": 5
}
